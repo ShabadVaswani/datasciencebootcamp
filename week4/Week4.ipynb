{
  "nbformat": 4,
  "nbformat_minor": 0,
  "metadata": {
    "colab": {
      "provenance": []
    },
    "kernelspec": {
      "name": "python3",
      "display_name": "Python 3"
    },
    "language_info": {
      "name": "python"
    }
  },
  "cells": [
    {
      "cell_type": "code",
      "execution_count": 14,
      "metadata": {
        "id": "i7qgbjB85Ih4"
      },
      "outputs": [],
      "source": [
        "import pandas as pd\n",
        "import numpy as np\n",
        "\n",
        "customers = pd.DataFrame({\n",
        "    'customer_id': [1, 2, 3, 4],\n",
        "    'first_name': ['John', 'Jane', 'John', 'Alice'],\n",
        "    'last_name': ['Doe', 'Smith', 'Smith', 'Doe'],\n",
        "    'Address': ['NY', 'CA', 'TX', 'WA']\n",
        "})\n",
        "\n",
        "items = pd.DataFrame({\n",
        "    'item_id': [101, 102, 103, 104],\n",
        "    'item_name': ['Shirt', 'Pants', 'Hat', 'Shoes'],\n",
        "    'price': [20, 30, 15, 50],\n",
        "    'department': ['Apparel', 'Apparel', 'Accessories', 'Footwear']\n",
        "})\n",
        "\n",
        "sales = pd.DataFrame({\n",
        "    'date': pd.to_datetime([\n",
        "        '2023-03-18', '2023-03-18', '2023-01-15', '2023-01-25',\n",
        "        '2022-11-20', '2022-08-14', '2023-03-18'\n",
        "    ]),\n",
        "    'order_id': [1, 2, 3, 4, 5, 6, 7],\n",
        "    'item_id': [101, 102, 103, 104, 101, 103, 104],\n",
        "    'customer_id': [1, 1, 2, 3, 4, 2, 1],\n",
        "    'quantity': [2, 1, 3, 1, 2, 1, 2],\n",
        "    'revenue': [40, 30, 45, 50, 40, 15, 100]  # direct revenue (quantity * price)\n",
        "})\n"
      ]
    },
    {
      "cell_type": "code",
      "source": [
        "march_18_orders = sales[sales['date'] == '2023-03-18']\n",
        "total_orders_march_18 = march_18_orders['order_id'].nunique()\n",
        "print(\"Orders on March 18, 2023:\", total_orders_march_18)\n"
      ],
      "metadata": {
        "colab": {
          "base_uri": "https://localhost:8080/"
        },
        "id": "Tx0WRJXb7OSd",
        "outputId": "960d02ce-06cf-49a1-e357-678d403a5e20"
      },
      "execution_count": 15,
      "outputs": [
        {
          "output_type": "stream",
          "name": "stdout",
          "text": [
            "Orders on March 18, 2023: 3\n"
          ]
        }
      ]
    },
    {
      "cell_type": "code",
      "source": [
        "# Merge SALES with CUSTOMERS\n",
        "sales_with_cust = sales.merge(customers, on='customer_id')\n",
        "john_doe_orders = sales_with_cust[\n",
        "    (sales_with_cust['date'] == '2023-03-18') &\n",
        "    (sales_with_cust['first_name'] == 'John') &\n",
        "    (sales_with_cust['last_name'] == 'Doe')\n",
        "]\n",
        "total_john_doe_orders = john_doe_orders['order_id'].nunique()\n",
        "print(\"Orders on March 18 by John Doe:\", total_john_doe_orders)\n"
      ],
      "metadata": {
        "colab": {
          "base_uri": "https://localhost:8080/"
        },
        "id": "BvbUs9526DYb",
        "outputId": "a3cb040d-b627-4497-892b-7aaa595262d4"
      },
      "execution_count": 16,
      "outputs": [
        {
          "output_type": "stream",
          "name": "stdout",
          "text": [
            "Orders on March 18 by John Doe: 3\n"
          ]
        }
      ]
    },
    {
      "cell_type": "code",
      "source": [
        "jan_sales = sales[sales['date'].dt.month == 1]\n",
        "jan_sales_grouped = jan_sales.groupby('customer_id')['revenue'].sum()\n",
        "\n",
        "total_customers_jan = jan_sales_grouped.count()\n",
        "avg_spend_jan = jan_sales_grouped.mean()\n",
        "print(\"Jan Customers:\", total_customers_jan, \"| Avg Spend:\", avg_spend_jan)\n"
      ],
      "metadata": {
        "colab": {
          "base_uri": "https://localhost:8080/"
        },
        "id": "dA3QmYhy674J",
        "outputId": "86318ac6-85aa-4b08-f396-973857ccc819"
      },
      "execution_count": 17,
      "outputs": [
        {
          "output_type": "stream",
          "name": "stdout",
          "text": [
            "Jan Customers: 2 | Avg Spend: 47.5\n"
          ]
        }
      ]
    },
    {
      "cell_type": "code",
      "source": [
        "sales_2022 = sales[sales['date'].dt.year == 2022]\n",
        "sales_with_items = sales_2022.merge(items, on='item_id')\n",
        "\n",
        "dept_revenue = sales_with_items.groupby('department')['revenue'].sum()\n",
        "low_revenue_depts = dept_revenue[dept_revenue < 600]\n",
        "print(\"Departments with < $600 revenue in 2022:\\n\", low_revenue_depts)\n"
      ],
      "metadata": {
        "colab": {
          "base_uri": "https://localhost:8080/"
        },
        "id": "TYkJxvfy8hVE",
        "outputId": "9621cf01-31b1-4f0f-81a2-70dc5ad40506"
      },
      "execution_count": 18,
      "outputs": [
        {
          "output_type": "stream",
          "name": "stdout",
          "text": [
            "Departments with < $600 revenue in 2022:\n",
            " department\n",
            "Accessories    15\n",
            "Apparel        40\n",
            "Name: revenue, dtype: int64\n"
          ]
        }
      ]
    },
    {
      "cell_type": "code",
      "source": [
        "order_revenue = sales.groupby('order_id')['revenue'].sum()\n",
        "max_revenue = order_revenue.max()\n",
        "min_revenue = order_revenue.min()\n",
        "print(\"Most Revenue:\", max_revenue, \"| Least Revenue:\", min_revenue)\n"
      ],
      "metadata": {
        "colab": {
          "base_uri": "https://localhost:8080/"
        },
        "id": "OmQzWxQC8k3l",
        "outputId": "81e75108-ed8f-42d4-b015-0c60f0309a66"
      },
      "execution_count": 19,
      "outputs": [
        {
          "output_type": "stream",
          "name": "stdout",
          "text": [
            "Most Revenue: 100 | Least Revenue: 15\n"
          ]
        }
      ]
    },
    {
      "cell_type": "code",
      "source": [
        "most_lucrative_order_id = order_revenue.idxmax()\n",
        "items_in_lucrative_order = sales[sales['order_id'] == most_lucrative_order_id].merge(items, on='item_id')\n",
        "print(\"Items in most lucrative order:\\n\", items_in_lucrative_order[['order_id', 'item_name', 'quantity', 'revenue']])\n"
      ],
      "metadata": {
        "colab": {
          "base_uri": "https://localhost:8080/"
        },
        "id": "uBNaMRod8pwN",
        "outputId": "33cbe527-d0ea-4411-dd96-5d0f59725883"
      },
      "execution_count": 20,
      "outputs": [
        {
          "output_type": "stream",
          "name": "stdout",
          "text": [
            "Items in most lucrative order:\n",
            "    order_id item_name  quantity  revenue\n",
            "0         7     Shoes         2      100\n"
          ]
        }
      ]
    }
  ]
}