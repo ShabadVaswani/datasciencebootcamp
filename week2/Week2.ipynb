{
  "nbformat": 4,
  "nbformat_minor": 0,
  "metadata": {
    "colab": {
      "provenance": []
    },
    "kernelspec": {
      "name": "python3",
      "display_name": "Python 3"
    },
    "language_info": {
      "name": "python"
    }
  },
  "cells": [
    {
      "cell_type": "code",
      "execution_count": 3,
      "metadata": {
        "colab": {
          "base_uri": "https://localhost:8080/"
        },
        "id": "i7qgbjB85Ih4",
        "outputId": "aeee443f-798e-46dd-ca45-75d751cb3672"
      },
      "outputs": [
        {
          "output_type": "stream",
          "name": "stdout",
          "text": [
            "Vertical Stack:\n",
            " [[1 2]\n",
            " [3 4]\n",
            " [5 6]\n",
            " [7 8]]\n",
            "Horizontal Stack:\n",
            " [[1 2 5 6]\n",
            " [3 4 7 8]]\n",
            "Common Elements:\n",
            " []\n",
            "Elements in range [2, 3]:\n",
            " [2 3]\n",
            "Filtered Iris Rows:\n",
            " [[4.8 3.4 1.6 0.2]\n",
            " [4.8 3.4 1.9 0.2]\n",
            " [4.7 3.2 1.6 0.2]\n",
            " [4.8 3.1 1.6 0.2]\n",
            " [4.9 2.4 3.3 1. ]\n",
            " [4.9 2.5 4.5 1.7]]\n"
          ]
        }
      ],
      "source": [
        "import numpy as np\n",
        "\n",
        "# Load iris dataset (only 4 numerical columns)\n",
        "url = 'https://archive.ics.uci.edu/ml/machine-learning-databases/iris/iris.data'\n",
        "iris_2d = np.genfromtxt(url, delimiter=',', dtype='float', usecols=[0,1,2,3])\n",
        "\n",
        "# 1. Define A and B, stack vertically and horizontally\n",
        "A = np.array([[1, 2], [3, 4]])\n",
        "B = np.array([[5, 6], [7, 8]])\n",
        "\n",
        "v_stack = np.vstack((A, B))\n",
        "h_stack = np.hstack((A, B))\n",
        "\n",
        "print(\"Vertical Stack:\\n\", v_stack)\n",
        "print(\"Horizontal Stack:\\n\", h_stack)\n",
        "\n",
        "# 2. Find common elements\n",
        "A_flat = A.flatten()\n",
        "B_flat = B.flatten()\n",
        "common_elements = np.intersect1d(A_flat, B_flat)\n",
        "print(\"Common Elements:\\n\", common_elements)\n",
        "\n",
        "# 3. Extract elements in range (e.g., 5 to 10) from A\n",
        "elements_in_range = A[(A >= 2) & (A <= 3)]\n",
        "print(\"Elements in range [2, 3]:\\n\", elements_in_range)\n",
        "\n",
        "# 4. Filter rows from iris_2d where petal length > 1.5 and sepal length < 5.0\n",
        "filtered_rows = iris_2d[(iris_2d[:, 2] > 1.5) & (iris_2d[:, 0] < 5.0)]\n",
        "print(\"Filtered Iris Rows:\\n\", filtered_rows)\n"
      ]
    },
    {
      "cell_type": "code",
      "source": [
        "import pandas as pd\n",
        "import numpy as np\n",
        "\n",
        "# 1. Filter 'Manufacturer', 'Model', and 'Type' for every 20th row starting from 0\n",
        "df = pd.read_csv('https://raw.githubusercontent.com/selva86/datasets/master/Cars93_miss.csv')\n",
        "filtered_df = df.loc[::20, ['Manufacturer', 'Model', 'Type']]\n",
        "print(\"Every 20th row:\\n\", filtered_df)\n",
        "\n",
        "# 2. Replace missing values in Min.Price and Max.Price columns with their mean\n",
        "df['Min.Price'].fillna(df['Min.Price'].mean(), inplace=True)\n",
        "df['Max.Price'].fillna(df['Max.Price'].mean(), inplace=True)\n",
        "print(\"Missing values filled for Min.Price and Max.Price.\")\n",
        "\n",
        "# 3. Get rows where row sum > 100\n",
        "df2 = pd.DataFrame(np.random.randint(10, 40, 60).reshape(-1, 4), columns=['A', 'B', 'C', 'D'])\n",
        "rows_gt_100 = df2[df2.sum(axis=1) > 100]\n",
        "print(\"Rows with row sum > 100:\\n\", rows_gt_100)\n"
      ],
      "metadata": {
        "colab": {
          "base_uri": "https://localhost:8080/"
        },
        "id": "BvbUs9526DYb",
        "outputId": "399a7fbf-477d-4c76-d59d-dbb8d99fd1f7"
      },
      "execution_count": 4,
      "outputs": [
        {
          "output_type": "stream",
          "name": "stdout",
          "text": [
            "Every 20th row:\n",
            "    Manufacturer    Model     Type\n",
            "0         Acura  Integra    Small\n",
            "20     Chrysler  LeBaron  Compact\n",
            "40        Honda  Prelude   Sporty\n",
            "60      Mercury   Cougar  Midsize\n",
            "80       Subaru   Loyale    Small\n",
            "Missing values filled for Min.Price and Max.Price.\n",
            "Rows with row sum > 100:\n",
            "      A   B   C   D\n",
            "1   30  34  34  37\n",
            "3   36  31  10  37\n",
            "4   26  37  37  22\n",
            "6   29  29  36  21\n",
            "7   33  28  39  20\n",
            "9   23  25  28  25\n",
            "11  29  32  36  11\n",
            "12  37  30  38  36\n"
          ]
        },
        {
          "output_type": "stream",
          "name": "stderr",
          "text": [
            "<ipython-input-4-40e1d642326e>:10: FutureWarning: A value is trying to be set on a copy of a DataFrame or Series through chained assignment using an inplace method.\n",
            "The behavior will change in pandas 3.0. This inplace method will never work because the intermediate object on which we are setting values always behaves as a copy.\n",
            "\n",
            "For example, when doing 'df[col].method(value, inplace=True)', try using 'df.method({col: value}, inplace=True)' or df[col] = df[col].method(value) instead, to perform the operation inplace on the original object.\n",
            "\n",
            "\n",
            "  df['Min.Price'].fillna(df['Min.Price'].mean(), inplace=True)\n",
            "<ipython-input-4-40e1d642326e>:11: FutureWarning: A value is trying to be set on a copy of a DataFrame or Series through chained assignment using an inplace method.\n",
            "The behavior will change in pandas 3.0. This inplace method will never work because the intermediate object on which we are setting values always behaves as a copy.\n",
            "\n",
            "For example, when doing 'df[col].method(value, inplace=True)', try using 'df.method({col: value}, inplace=True)' or df[col] = df[col].method(value) instead, to perform the operation inplace on the original object.\n",
            "\n",
            "\n",
            "  df['Max.Price'].fillna(df['Max.Price'].mean(), inplace=True)\n"
          ]
        }
      ]
    }
  ]
}